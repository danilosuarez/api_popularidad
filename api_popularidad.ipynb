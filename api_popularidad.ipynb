{
 "cells": [
  {
   "cell_type": "code",
   "execution_count": 2,
   "id": "947312c5-1e2b-4683-89ad-4280877625c3",
   "metadata": {},
   "outputs": [
    {
     "name": "stdout",
     "output_type": "stream",
     "text": [
      "Overwriting api.py\n"
     ]
    }
   ],
   "source": [
    "%%writefile api.py\n",
    "from flask import Flask\n",
    "from flask_restx import Api, Resource, fields\n",
    "import joblib\n",
    "import numpy as np\n",
    "\n",
    "app = Flask(__name__)\n",
    "api = Api(\n",
    "    app,\n",
    "    version='1.0',\n",
    "    title='Popularidad de Canciones API',\n",
    "    description='API para predecir la popularidad de una canción basada en características de audio.'\n",
    ")\n",
    "\n",
    "ns = api.namespace('predict', description='Predicción de popularidad')\n",
    "\n",
    "try:\n",
    "    model = joblib.load('modelo_popularidad.pkl')\n",
    "except:\n",
    "    model = None\n",
    "    print(\"⚠️ Modelo no cargado.\")\n",
    "\n",
    "parser = ns.parser()\n",
    "parser.add_argument('danceability', type=float, required=True, help='Danceability', location='args')\n",
    "parser.add_argument('energy', type=float, required=True, help='Energy', location='args')\n",
    "parser.add_argument('loudness', type=float, required=True, help='Loudness', location='args')\n",
    "parser.add_argument('speechiness', type=float, required=True, help='Speechiness', location='args')\n",
    "parser.add_argument('acousticness', type=float, required=True, help='Acousticness', location='args')\n",
    "parser.add_argument('instrumentalness', type=float, required=True, help='Instrumentalness', location='args')\n",
    "parser.add_argument('liveness', type=float, required=True, help='Liveness', location='args')\n",
    "parser.add_argument('valence', type=float, required=True, help='Valence', location='args')\n",
    "parser.add_argument('tempo', type=float, required=True, help='Tempo', location='args')\n",
    "\n",
    "resource_fields = api.model('Prediction', {\n",
    "    'popularity_prediction': fields.Float,\n",
    "})\n",
    "\n",
    "@ns.route('/')\n",
    "class SongPopularityPredictor(Resource):\n",
    "\n",
    "    @ns.doc(parser=parser)\n",
    "    @ns.marshal_with(resource_fields)\n",
    "    def get(self):\n",
    "        args = parser.parse_args()\n",
    "        features = [\n",
    "            args['danceability'],\n",
    "            args['energy'],\n",
    "            args['loudness'],\n",
    "            args['speechiness'],\n",
    "            args['acousticness'],\n",
    "            args['instrumentalness'],\n",
    "            args['liveness'],\n",
    "            args['valence'],\n",
    "            args['tempo'],\n",
    "        ]\n",
    "        \n",
    "        if model:\n",
    "            prediction = model.predict([features])[0]\n",
    "        else:\n",
    "            prediction = -1\n",
    "        \n",
    "        return {\n",
    "            'popularity_prediction': prediction\n",
    "        }, 200\n",
    "\n",
    "if __name__ == '__main__':\n",
    "    app.run(debug=True, host='0.0.0.0', port=5001)"
   ]
  },
  {
   "cell_type": "code",
   "execution_count": null,
   "id": "ae6fc3bd-7006-4d2d-95c2-c42dfdb6ddf9",
   "metadata": {},
   "outputs": [],
   "source": []
  }
 ],
 "metadata": {
  "kernelspec": {
   "display_name": "Python 3 (ipykernel)",
   "language": "python",
   "name": "python3"
  },
  "language_info": {
   "codemirror_mode": {
    "name": "ipython",
    "version": 3
   },
   "file_extension": ".py",
   "mimetype": "text/x-python",
   "name": "python",
   "nbconvert_exporter": "python",
   "pygments_lexer": "ipython3",
   "version": "3.11.11"
  }
 },
 "nbformat": 4,
 "nbformat_minor": 5
}
